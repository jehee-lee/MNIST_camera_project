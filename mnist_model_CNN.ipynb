{
  "nbformat": 4,
  "nbformat_minor": 0,
  "metadata": {
    "colab": {
      "name": "mnist_model_CNN.ipynb",
      "provenance": [],
      "collapsed_sections": [],
      "mount_file_id": "1HUBfTGK4QnjGHx1LkcoiEOUgeyMLASUt",
      "authorship_tag": "ABX9TyOotrrXI3SE6LaapI0u23un",
      "include_colab_link": true
    },
    "kernelspec": {
      "name": "python3",
      "display_name": "Python 3"
    },
    "accelerator": "GPU"
  },
  "cells": [
    {
      "cell_type": "markdown",
      "metadata": {
        "id": "view-in-github",
        "colab_type": "text"
      },
      "source": [
        "<a href=\"https://colab.research.google.com/github/jehee-lee/jjtech/blob/main/mnist_model_CNN.ipynb\" target=\"_parent\"><img src=\"https://colab.research.google.com/assets/colab-badge.svg\" alt=\"Open In Colab\"/></a>"
      ]
    },
    {
      "cell_type": "code",
      "metadata": {
        "colab": {
          "base_uri": "https://localhost:8080/"
        },
        "id": "vmPtljTIEwua",
        "outputId": "f285903e-a548-48c1-95cc-74b770fc0c67"
      },
      "source": [
        "from torch import cuda\r\n",
        "\r\n",
        "device = 'cuda' if cuda.is_available() else 'cpu'\r\n",
        "print(f'Training MNIST Model on {device}\\n{\"=\" * 44}')"
      ],
      "execution_count": null,
      "outputs": [
        {
          "output_type": "stream",
          "text": [
            "Training MNIST Model on cuda\n",
            "============================================\n"
          ],
          "name": "stdout"
        }
      ]
    },
    {
      "cell_type": "markdown",
      "metadata": {
        "id": "_ytQtgAaltDK"
      },
      "source": [
        "==============================데이터를 불러온 뒤 학습하기=============================="
      ]
    },
    {
      "cell_type": "code",
      "metadata": {
        "id": "ihocZOnRFAQz"
      },
      "source": [
        "import torch\r\n",
        "import torchvision.datasets as dsets\r\n",
        "import torchvision.transforms as transforms\r\n",
        "from torch.utils.data import DataLoader\r\n",
        "train_dset = dsets.MNIST(root='/content/drive/MyDrive/opencvRo',\r\n",
        "                          train=True,\r\n",
        "                          transform=transforms.ToTensor(),\r\n",
        "                          download=True)\r\n",
        "test_dset = dsets.MNIST(root='/content/drive/MyDrive/opencvRo',\r\n",
        "                          train=False,\r\n",
        "                          transform=transforms.ToTensor(),\r\n",
        "                          download=True)"
      ],
      "execution_count": null,
      "outputs": []
    },
    {
      "cell_type": "code",
      "metadata": {
        "id": "fqJzvcjdFGXD"
      },
      "source": [
        "batch_size =64\r\n",
        "\r\n",
        "train_loader = DataLoader(dataset=train_dset,\r\n",
        "                                           batch_size=batch_size,\r\n",
        "                                           shuffle=True, drop_last=True)\r\n",
        "\r\n",
        "test_loader = DataLoader(dataset=test_dset,\r\n",
        "                                          batch_size=batch_size,\r\n",
        "                                          shuffle=False, drop_last=True)"
      ],
      "execution_count": null,
      "outputs": []
    },
    {
      "cell_type": "code",
      "metadata": {
        "id": "gInaxN9XAw9N"
      },
      "source": [
        "t_x = train_dset[0][0].size()\r\n",
        "\r\n",
        "t_conv = nn.Conv2d(1,10, kernel_size=5)\r\n",
        "t_mp = nn.MaxPool2d(2)\r\n",
        "\r\n"
      ],
      "execution_count": null,
      "outputs": []
    },
    {
      "cell_type": "code",
      "metadata": {
        "id": "v6r3InR6FMd7"
      },
      "source": [
        "from torch import nn, optim\r\n",
        "import torch.nn.functional as F\r\n",
        "\r\n",
        "class Net(nn.Module):\r\n",
        "\r\n",
        "    def __init__(self):\r\n",
        "        super(Net, self).__init__()\r\n",
        "        self.conv1 = nn.Conv2d(1, 10, kernel_size=5)\r\n",
        "        self.conv2 = nn.Conv2d(10, 20, kernel_size=5)\r\n",
        "        self.mp = nn.MaxPool2d(2)\r\n",
        "        self.fc = nn.Linear(320, 10)\r\n",
        "\r\n",
        "    def forward(self, x):\r\n",
        "        in_size = x.size(0)\r\n",
        "        x = F.relu(self.mp(self.conv1(x)))\r\n",
        "        x = F.relu(self.mp(self.conv2(x)))\r\n",
        "        x = x.view(in_size, -1)  # flatten the tensor\r\n",
        "        x = self.fc(x)\r\n",
        "        return F.log_softmax(x)\r\n",
        "\r\n",
        "\r\n",
        "model = Net()\r\n",
        "model.to(device)\r\n",
        "criterion = nn.CrossEntropyLoss()\r\n",
        "optimizer = optim.SGD(model.parameters(), lr=0.01, momentum=0.5)"
      ],
      "execution_count": null,
      "outputs": []
    },
    {
      "cell_type": "code",
      "metadata": {
        "id": "uSiVXim-GAQC"
      },
      "source": [
        "import matplotlib.pyplot as plt\r\n",
        "\r\n",
        "loss_list=[]\r\n",
        "acc_list = []"
      ],
      "execution_count": null,
      "outputs": []
    },
    {
      "cell_type": "code",
      "metadata": {
        "id": "kXVPBJTYGANp"
      },
      "source": [
        "def train(epoch):\r\n",
        "  model.train()\r\n",
        "  for batch_idx, (X,Y) in enumerate(train_loader):\r\n",
        "    X, Y = X.to(device), Y.to(device)\r\n",
        "    optimizer.zero_grad()\r\n",
        "    output=model(X)\r\n",
        "    loss = criterion(output, Y)\r\n",
        "    loss_list.append(loss.item())#loss 수집\r\n",
        "    loss.backward()\r\n",
        "    optimizer.step()\r\n",
        "    if batch_idx %10==0:\r\n",
        "      print('Train Epoch: {} | Batch Status : {}/{}({:.0f}%) | Loss: {:.6f}'\r\n",
        "      .format(epoch, batch_idx*len(X), len(train_loader.dataset),\r\n",
        "              100.*batch_idx / len(train_loader), loss.item()))"
      ],
      "execution_count": null,
      "outputs": []
    },
    {
      "cell_type": "code",
      "metadata": {
        "id": "MQWjxCNFGEJP"
      },
      "source": [
        "def test():\r\n",
        "  model.eval()\r\n",
        "  test_loss = 0\r\n",
        "  correct = 0\r\n",
        "  for X, Y in test_loader:\r\n",
        "    X, Y = X.to(device), Y.to(device)\r\n",
        "    output = model(X)\r\n",
        "    test_loss += criterion(output, Y).item()\r\n",
        "    pred = output.data.max(1,keepdim=True)[1]\r\n",
        "    correct += pred.eq(Y.data.view_as(pred)).cpu().sum()\r\n",
        "    test_loss /= len(test_loader.dataset)\r\n",
        "    Accuracy = 100. * correct / len(test_loader.dataset)\r\n",
        "    acc_list.append(Accuracy.item())#Accuracy 수집\r\n",
        "    print(f'===========================\\nTest set: Average loss: {test_loss:.4f}, Accuracy: {correct}/{len(test_loader.dataset)} '\r\n",
        "          f'({Accuracy:.0f}%)')"
      ],
      "execution_count": null,
      "outputs": []
    },
    {
      "cell_type": "code",
      "metadata": {
        "id": "jMLD0NI2GHhm"
      },
      "source": [
        "import time\r\n",
        "\r\n",
        "if __name__ == '__main__':\r\n",
        "    since = time.time()\r\n",
        "    for epoch in range(1, 10):\r\n",
        "        epoch_start = time.time()\r\n",
        "        train(epoch)\r\n",
        "        m, s = divmod(time.time() - epoch_start, 60)\r\n",
        "        print(f'Training time: {m:.0f}m {s:.0f}s')\r\n",
        "        test()\r\n",
        "        m, s = divmod(time.time() - epoch_start, 60)\r\n",
        "        print(f'Testing time: {m:.0f}m {s:.0f}s')\r\n",
        "\r\n",
        "    m, s = divmod(time.time() - since, 60)\r\n",
        "    print(f'Total Time: {m:.0f}m {s:.0f}s\\nModel was trained on {device}!')"
      ],
      "execution_count": null,
      "outputs": []
    },
    {
      "cell_type": "markdown",
      "metadata": {
        "id": "Owcz0yEd9UHi"
      },
      "source": [
        "==============================학습된 parameter 분석==============================\r\n",
        "\r\n",
        "\r\n"
      ]
    },
    {
      "cell_type": "code",
      "metadata": {
        "colab": {
          "base_uri": "https://localhost:8080/",
          "height": 154
        },
        "id": "udc8ZJjQ9Swj",
        "outputId": "fb65db96-2f88-4b98-f978-53d6dd521ba4"
      },
      "source": [
        "# 모델의 state_dict 출력\r\n",
        "print(\"Model's state_dict:\")\r\n",
        "for param_tensor in model.state_dict():\r\n",
        "    print(param_tensor, \"\\t\", model.state_dict()[param_tensor].size())\r\n",
        "\r\n",
        "# 옵티마이저의 state_dict 출력\r\n",
        "'''\r\n",
        "print(\"Optimizer's state_dict:\")\r\n",
        "for var_name in optimizer.state_dict():\r\n",
        "    print(var_name, \"\\t\", optimizer.state_dict()[var_name])\\\r\n",
        "'''"
      ],
      "execution_count": 115,
      "outputs": [
        {
          "output_type": "stream",
          "text": [
            "Model's state_dict:\n",
            "conv1.weight \t torch.Size([10, 1, 5, 5])\n",
            "conv1.bias \t torch.Size([10])\n",
            "conv2.weight \t torch.Size([20, 10, 5, 5])\n",
            "conv2.bias \t torch.Size([20])\n",
            "fc.weight \t torch.Size([10, 320])\n",
            "fc.bias \t torch.Size([10])\n"
          ],
          "name": "stdout"
        },
        {
          "output_type": "execute_result",
          "data": {
            "application/vnd.google.colaboratory.intrinsic+json": {
              "type": "string"
            },
            "text/plain": [
              "'\\nprint(\"Optimizer\\'s state_dict:\")\\nfor var_name in optimizer.state_dict():\\n    print(var_name, \"\\t\", optimizer.state_dict()[var_name])'"
            ]
          },
          "metadata": {
            "tags": []
          },
          "execution_count": 115
        }
      ]
    },
    {
      "cell_type": "code",
      "metadata": {
        "colab": {
          "base_uri": "https://localhost:8080/",
          "height": 282
        },
        "id": "3PqXiKwn9Sup",
        "outputId": "1b903f3c-4b39-4bfb-ad0f-38fa4fbec2de"
      },
      "source": [
        "plt.plot(loss_list)"
      ],
      "execution_count": null,
      "outputs": [
        {
          "output_type": "execute_result",
          "data": {
            "text/plain": [
              "[<matplotlib.lines.Line2D at 0x7f7426985358>]"
            ]
          },
          "metadata": {
            "tags": []
          },
          "execution_count": 11
        },
        {
          "output_type": "display_data",
          "data": {
            "image/png": "[encoded data removed]",
            "text/plain": [
              "<Figure size 432x288 with 1 Axes>"
            ]
          },
          "metadata": {
            "tags": [],
            "needs_background": "light"
          }
        }
      ]
    },
    {
      "cell_type": "code",
      "metadata": {
        "colab": {
          "base_uri": "https://localhost:8080/",
          "height": 282
        },
        "id": "ccEc393p9Spm",
        "outputId": "65a0f932-d40a-4f0a-b3b2-46218293975b"
      },
      "source": [
        "plt.plot(acc_list)"
      ],
      "execution_count": null,
      "outputs": [
        {
          "output_type": "execute_result",
          "data": {
            "text/plain": [
              "[<matplotlib.lines.Line2D at 0x7f74272a8e48>]"
            ]
          },
          "metadata": {
            "tags": []
          },
          "execution_count": 12
        },
        {
          "output_type": "display_data",
          "data": {
            "image/png": "[encoded data removed]",
            "text/plain": [
              "<Figure size 432x288 with 1 Axes>"
            ]
          },
          "metadata": {
            "tags": [],
            "needs_background": "light"
          }
        }
      ]
    },
    {
      "cell_type": "markdown",
      "metadata": {
        "id": "Vl3ZbCyO97j-"
      },
      "source": [
        "==============================모델 테스트==============================\r\n",
        "\r\n",
        "\r\n",
        "모델 테스트 1) 최종 accuracy 구하기 (CNN.ver)\r\n",
        "\r\n",
        "https://truman.tistory.com/216"
      ]
    },
    {
      "cell_type": "code",
      "metadata": {
        "colab": {
          "base_uri": "https://localhost:8080/"
        },
        "id": "RCFevBhl9Sk7",
        "outputId": "4a55f107-d2f0-425a-80ed-be06ce5d9854"
      },
      "source": [
        "correct = 0\r\n",
        "\r\n",
        "total = 0\r\n",
        "\r\n",
        "with torch.no_grad():\r\n",
        "  for data in test_loader:\r\n",
        "    images, labels = data\r\n",
        "    images, labels = images.to(device),labels.to(device)\r\n",
        "    outputs = model(images)\r\n",
        "    _,prediction = torch.max(outputs.data,1)\r\n",
        "    total+=labels.size(0)\r\n",
        "    correct += (prediction==labels).sum().item()\r\n",
        "\r\n",
        "print(\"Acc:\", 100*correct/total)"
      ],
      "execution_count": 113,
      "outputs": [
        {
          "output_type": "stream",
          "text": [
            "/usr/local/lib/python3.6/dist-packages/ipykernel_launcher.py:19: UserWarning: Implicit dimension choice for log_softmax has been deprecated. Change the call to include dim=X as an argument.\n"
          ],
          "name": "stderr"
        },
        {
          "output_type": "stream",
          "text": [
            "Acc: 98.34735576923077\n"
          ],
          "name": "stdout"
        }
      ]
    },
    {
      "cell_type": "markdown",
      "metadata": {
        "id": "TFpbk4ze98-G"
      },
      "source": [
        "모델 테스트 2) 분류모델을 활용해 임의의 데이터 분류하기\r\n",
        "\r\n",
        "\r\n",
        "\r\n",
        "\r\n",
        "***중요!!!!\r\n",
        "\r\n",
        "http://taewan.kim/post/cnn/\r\n",
        "\r\n",
        "CNN은 4텐서를 input으로 받기 때문에 view(1,1,28,28)으로 변환해야 함 <==> LNN과 차이"
      ]
    },
    {
      "cell_type": "code",
      "metadata": {
        "colab": {
          "base_uri": "https://localhost:8080/",
          "height": 404
        },
        "id": "DtuAsiz399ft",
        "outputId": "88a70e0c-9041-4256-ba60-f6622fefc086"
      },
      "source": [
        "import random\r\n",
        "r = random.randint(0, len(test_dset)-1) #숫자 r은 test데이터셋의 크기만큼의 숫자중 하나\r\n",
        "X_val = test_dset.test_data[r:r+1].view(1,1,28,28).float().to(device) #***중요 CNN은 4텐서이기 때문에 4텐서로 변환\r\n",
        "Y_val = test_dset.test_labels[r:r+1].to(device)\r\n",
        "\r\n",
        "print('Label:', Y_val.item())\r\n",
        "single_prediction = model(X_val)\r\n",
        "print('Prediction:', torch.argmax(single_prediction,1).item())\r\n",
        "\r\n",
        "plt.imshow(test_dset.test_data[r:r+1].view(28,28), cmap='Greys')\r\n",
        "plt.show()"
      ],
      "execution_count": null,
      "outputs": [
        {
          "output_type": "stream",
          "text": [
            "Label: 8\n",
            "Prediction: 8\n"
          ],
          "name": "stdout"
        },
        {
          "output_type": "stream",
          "text": [
            "/usr/local/lib/python3.6/dist-packages/torchvision/datasets/mnist.py:63: UserWarning: test_data has been renamed data\n",
            "  warnings.warn(\"test_data has been renamed data\")\n",
            "/usr/local/lib/python3.6/dist-packages/torchvision/datasets/mnist.py:53: UserWarning: test_labels has been renamed targets\n",
            "  warnings.warn(\"test_labels has been renamed targets\")\n",
            "/usr/local/lib/python3.6/dist-packages/ipykernel_launcher.py:19: UserWarning: Implicit dimension choice for log_softmax has been deprecated. Change the call to include dim=X as an argument.\n"
          ],
          "name": "stderr"
        },
        {
          "output_type": "display_data",
          "data": {
            "image/png": "[encoded data removed]",
            "text/plain": [
              "<Figure size 432x288 with 1 Axes>"
            ]
          },
          "metadata": {
            "tags": [],
            "needs_background": "light"
          }
        }
      ]
    },
    {
      "cell_type": "markdown",
      "metadata": {
        "id": "7bvv7aboWe8w"
      },
      "source": [
        "==============================추론하기=============================="
      ]
    },
    {
      "cell_type": "code",
      "metadata": {
        "colab": {
          "base_uri": "https://localhost:8080/",
          "height": 248
        },
        "id": "GNYd_OZe-pKF",
        "outputId": "406050dd-3976-40de-ab8b-e5a28f42d57f"
      },
      "source": [
        "import cv2\r\n",
        " \r\n",
        "\r\n",
        "img = cv2.imread('/content/drive/MyDrive/opencvRo/number/0.png')\r\n",
        "\r\n",
        "plt.imshow(img)\r\n",
        "plt.axis('off')\r\n",
        "plt.show()"
      ],
      "execution_count": null,
      "outputs": [
        {
          "output_type": "display_data",
          "data": {
            "image/png": "[encoded data removed]",
            "text/plain": [
              "<Figure size 432x288 with 1 Axes>"
            ]
          },
          "metadata": {
            "tags": [],
            "needs_background": "light"
          }
        }
      ]
    },
    {
      "cell_type": "code",
      "metadata": {
        "colab": {
          "base_uri": "https://localhost:8080/",
          "height": 265
        },
        "id": "7nJSgRcvWnCS",
        "outputId": "8838adc4-44d4-4763-dc22-371af281e3c8"
      },
      "source": [
        "img_resize = cv2.resize(img, (28,28))\r\n",
        "\r\n",
        "plt.imshow(img_resize)\r\n",
        "plt.show()"
      ],
      "execution_count": null,
      "outputs": [
        {
          "output_type": "display_data",
          "data": {
            "image/png": "[encoded data removed]",
            "text/plain": [
              "<Figure size 432x288 with 1 Axes>"
            ]
          },
          "metadata": {
            "tags": [],
            "needs_background": "light"
          }
        }
      ]
    },
    {
      "cell_type": "code",
      "metadata": {
        "colab": {
          "base_uri": "https://localhost:8080/",
          "height": 1000
        },
        "id": "Fs_TDw7VWnAN",
        "outputId": "15116349-d688-4c23-922f-aa36de0269c0"
      },
      "source": [
        "import numpy as np\r\n",
        "\r\n",
        "#28*28로 리사이즈\r\n",
        "img1 = cv2.resize(img, (28,28))\r\n",
        "\r\n",
        "print(\"shape of img1:\", img1.shape)\r\n",
        "plt.imshow(img1)\r\n",
        "plt.show()\r\n",
        "\r\n",
        "#그레이스케일로 변환\r\n",
        "img2 = cv2.cvtColor(img1, cv2.COLOR_BGR2GRAY)\r\n",
        "\r\n",
        "print(\"shape of img2:\", img2.shape)\r\n",
        "\r\n",
        "plt.imshow(img2)\r\n",
        "plt.show()\r\n",
        "\r\n",
        "#출력된 색상이 학습된 이미지의 색상과 반전되어있으므로 반전 실행\r\n",
        "img3 = ~img2\r\n",
        "\r\n",
        "print(\"shape of img3:\", img3.shape)\r\n",
        "\r\n",
        "plt.imshow(img3)\r\n",
        "plt.show()\r\n",
        "\r\n",
        "#파이토치 명령어를 통해 이미지(openCV의 경우 numpy형)를 텐서형으로 변환 후 그레이스케일로 출력\r\n",
        "img_fin = torch.from_numpy(img3)\r\n",
        "\r\n",
        "print(\"shape of img4:\", img_fin.shape)\r\n",
        "\r\n",
        "plt.imshow(img_fin.view(28,28),cmap='Greys')\r\n",
        "plt.show()"
      ],
      "execution_count": null,
      "outputs": [
        {
          "output_type": "stream",
          "text": [
            "shape of img1: (28, 28, 3)\n"
          ],
          "name": "stdout"
        },
        {
          "output_type": "display_data",
          "data": {
            "image/png": "[encoded data removed]",
            "text/plain": [
              "<Figure size 432x288 with 1 Axes>"
            ]
          },
          "metadata": {
            "tags": [],
            "needs_background": "light"
          }
        },
        {
          "output_type": "stream",
          "text": [
            "shape of img2: (28, 28)\n"
          ],
          "name": "stdout"
        },
        {
          "output_type": "display_data",
          "data": {
            "image/png": "[encoded data removed]",
            "text/plain": [
              "<Figure size 432x288 with 1 Axes>"
            ]
          },
          "metadata": {
            "tags": [],
            "needs_background": "light"
          }
        },
        {
          "output_type": "stream",
          "text": [
            "shape of img3: (28, 28)\n"
          ],
          "name": "stdout"
        },
        {
          "output_type": "display_data",
          "data": {
            "image/png": "[encoded data removed]",
            "text/plain": [
              "<Figure size 432x288 with 1 Axes>"
            ]
          },
          "metadata": {
            "tags": [],
            "needs_background": "light"
          }
        },
        {
          "output_type": "stream",
          "text": [
            "shape of img4: torch.Size([28, 28])\n"
          ],
          "name": "stdout"
        },
        {
          "output_type": "display_data",
          "data": {
            "image/png": "[encoded data removed]",
            "text/plain": [
              "<Figure size 432x288 with 1 Axes>"
            ]
          },
          "metadata": {
            "tags": [],
            "needs_background": "light"
          }
        }
      ]
    },
    {
      "cell_type": "code",
      "metadata": {
        "colab": {
          "base_uri": "https://localhost:8080/",
          "height": 319
        },
        "id": "RFXssiOHWm9y",
        "outputId": "31eb790d-2d48-46b6-aa20-81950ab1bec6"
      },
      "source": [
        "result = img_fin.view(1,1,28,28).float().to(device)\r\n",
        "\r\n",
        "single_prediction = model(result)\r\n",
        "print('Prediction:', torch.argmax(single_prediction,1).item())\r\n",
        "\r\n",
        "plt.imshow(img_fin.view(28,28))\r\n",
        "plt.imshow(img_fin.view(28,28),cmap='Greys')\r\n",
        "plt.show()"
      ],
      "execution_count": null,
      "outputs": [
        {
          "output_type": "stream",
          "text": [
            "Prediction: 0\n"
          ],
          "name": "stdout"
        },
        {
          "output_type": "stream",
          "text": [
            "/usr/local/lib/python3.6/dist-packages/ipykernel_launcher.py:19: UserWarning: Implicit dimension choice for log_softmax has been deprecated. Change the call to include dim=X as an argument.\n"
          ],
          "name": "stderr"
        },
        {
          "output_type": "display_data",
          "data": {
            "image/png": "[encoded data removed]",
            "text/plain": [
              "<Figure size 432x288 with 1 Axes>"
            ]
          },
          "metadata": {
            "tags": [],
            "needs_background": "light"
          }
        }
      ]
    },
    {
      "cell_type": "markdown",
      "metadata": {
        "id": "lwxujPK_dvVk"
      },
      "source": [
        "모델 저장하기"
      ]
    },
    {
      "cell_type": "code",
      "metadata": {
        "id": "WOq1-2KGWm75"
      },
      "source": [
        "PATH = '/content/drive/MyDrive/opencvRo/'\r\n",
        "\r\n",
        "torch.save(model.state_dict(), PATH +'model_for_RO_CNN.pt')\r\n",
        "torch.save(optimizer.state_dict(),PATH +'optimizer_for_RO_CNN.pt')"
      ],
      "execution_count": null,
      "outputs": []
    },
    {
      "cell_type": "markdown",
      "metadata": {
        "id": "T5-z55W2mBKH"
      },
      "source": [
        "저장된 모델 또한 라즈베리파이에서 테스트 할 예정"
      ]
    },
    {
      "cell_type": "code",
      "metadata": {
        "id": "9cQNSn24Wm0z"
      },
      "source": [
        ""
      ],
      "execution_count": null,
      "outputs": []
    }
  ]
}