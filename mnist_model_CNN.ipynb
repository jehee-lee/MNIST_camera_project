{
  "nbformat": 4,
  "nbformat_minor": 0,
  "metadata": {
    "colab": {
      "name": "mnist_model_CNN.ipynb",
      "provenance": [],
      "collapsed_sections": [],
      "mount_file_id": "1HUBfTGK4QnjGHx1LkcoiEOUgeyMLASUt",
      "authorship_tag": "ABX9TyNrDvNNL6vhN/Opxzoesn8o",
      "include_colab_link": true
    },
    "kernelspec": {
      "name": "python3",
      "display_name": "Python 3"
    },
    "accelerator": "GPU"
  },
  "cells": [
    {
      "cell_type": "markdown",
      "metadata": {
        "id": "view-in-github",
        "colab_type": "text"
      },
      "source": [
        "<a href=\"https://colab.research.google.com/github/jehee-lee/jjtech/blob/main/mnist_model_CNN.ipynb\" target=\"_parent\"><img src=\"https://colab.research.google.com/assets/colab-badge.svg\" alt=\"Open In Colab\"/></a>"
      ]
    },
    {
      "cell_type": "code",
      "metadata": {
        "colab": {
          "base_uri": "https://localhost:8080/"
        },
        "id": "vmPtljTIEwua",
        "outputId": "f285903e-a548-48c1-95cc-74b770fc0c67"
      },
      "source": [
        "from torch import cuda\r\n",
        "\r\n",
        "device = 'cuda' if cuda.is_available() else 'cpu'\r\n",
        "print(f'Training MNIST Model on {device}\\n{\"=\" * 44}')"
      ],
      "execution_count": null,
      "outputs": [
        {
          "output_type": "stream",
          "text": [
            "Training MNIST Model on cuda\n",
            "============================================\n"
          ],
          "name": "stdout"
        }
      ]
    },
    {
      "cell_type": "markdown",
      "metadata": {
        "id": "_ytQtgAaltDK"
      },
      "source": [
        "==============================데이터를 불러온 뒤 학습하기=============================="
      ]
    },
    {
      "cell_type": "code",
      "metadata": {
        "id": "ihocZOnRFAQz"
      },
      "source": [
        "import torch\r\n",
        "import torchvision.datasets as dsets\r\n",
        "import torchvision.transforms as transforms\r\n",
        "from torch.utils.data import DataLoader\r\n",
        "train_dset = dsets.MNIST(root='/content/drive/MyDrive/opencvRo',\r\n",
        "                          train=True,\r\n",
        "                          transform=transforms.ToTensor(),\r\n",
        "                          download=True)\r\n",
        "test_dset = dsets.MNIST(root='/content/drive/MyDrive/opencvRo',\r\n",
        "                          train=False,\r\n",
        "                          transform=transforms.ToTensor(),\r\n",
        "                          download=True)"
      ],
      "execution_count": null,
      "outputs": []
    },
    {
      "cell_type": "code",
      "metadata": {
        "id": "fqJzvcjdFGXD"
      },
      "source": [
        "batch_size =64\r\n",
        "\r\n",
        "train_loader = DataLoader(dataset=train_dset,\r\n",
        "                                           batch_size=batch_size,\r\n",
        "                                           shuffle=True, drop_last=True)\r\n",
        "\r\n",
        "test_loader = DataLoader(dataset=test_dset,\r\n",
        "                                          batch_size=batch_size,\r\n",
        "                                          shuffle=False, drop_last=True)"
      ],
      "execution_count": null,
      "outputs": []
    },
    {
      "cell_type": "code",
      "metadata": {
        "id": "gInaxN9XAw9N"
      },
      "source": [
        "t_x = train_dset[0][0].size()\r\n",
        "\r\n",
        "t_conv = nn.Conv2d(1,10, kernel_size=5)\r\n",
        "t_mp = nn.MaxPool2d(2)\r\n",
        "\r\n"
      ],
      "execution_count": null,
      "outputs": []
    },
    {
      "cell_type": "code",
      "metadata": {
        "id": "v6r3InR6FMd7"
      },
      "source": [
        "from torch import nn, optim\r\n",
        "import torch.nn.functional as F\r\n",
        "\r\n",
        "class Net(nn.Module):\r\n",
        "\r\n",
        "    def __init__(self):\r\n",
        "        super(Net, self).__init__()\r\n",
        "        self.conv1 = nn.Conv2d(1, 10, kernel_size=5)\r\n",
        "        self.conv2 = nn.Conv2d(10, 20, kernel_size=5)\r\n",
        "        self.mp = nn.MaxPool2d(2)\r\n",
        "        self.fc = nn.Linear(320, 10)\r\n",
        "\r\n",
        "    def forward(self, x):\r\n",
        "        in_size = x.size(0)\r\n",
        "        x = F.relu(self.mp(self.conv1(x)))\r\n",
        "        x = F.relu(self.mp(self.conv2(x)))\r\n",
        "        x = x.view(in_size, -1)  # flatten the tensor\r\n",
        "        x = self.fc(x)\r\n",
        "        return F.log_softmax(x)\r\n",
        "\r\n",
        "\r\n",
        "model = Net()\r\n",
        "model.to(device)\r\n",
        "criterion = nn.CrossEntropyLoss()\r\n",
        "optimizer = optim.SGD(model.parameters(), lr=0.01, momentum=0.5)"
      ],
      "execution_count": null,
      "outputs": []
    },
    {
      "cell_type": "code",
      "metadata": {
        "id": "uSiVXim-GAQC"
      },
      "source": [
        "import matplotlib.pyplot as plt\r\n",
        "\r\n",
        "loss_list=[]\r\n",
        "acc_list = []"
      ],
      "execution_count": null,
      "outputs": []
    },
    {
      "cell_type": "code",
      "metadata": {
        "id": "kXVPBJTYGANp"
      },
      "source": [
        "def train(epoch):\r\n",
        "  model.train()\r\n",
        "  for batch_idx, (X,Y) in enumerate(train_loader):\r\n",
        "    X, Y = X.to(device), Y.to(device)\r\n",
        "    optimizer.zero_grad()\r\n",
        "    output=model(X)\r\n",
        "    loss = criterion(output, Y)\r\n",
        "    loss_list.append(loss.item())#loss 수집\r\n",
        "    loss.backward()\r\n",
        "    optimizer.step()\r\n",
        "    if batch_idx %10==0:\r\n",
        "      print('Train Epoch: {} | Batch Status : {}/{}({:.0f}%) | Loss: {:.6f}'\r\n",
        "      .format(epoch, batch_idx*len(X), len(train_loader.dataset),\r\n",
        "              100.*batch_idx / len(train_loader), loss.item()))"
      ],
      "execution_count": null,
      "outputs": []
    },
    {
      "cell_type": "code",
      "metadata": {
        "id": "MQWjxCNFGEJP"
      },
      "source": [
        "def test():\r\n",
        "  model.eval()\r\n",
        "  test_loss = 0\r\n",
        "  correct = 0\r\n",
        "  for X, Y in test_loader:\r\n",
        "    X, Y = X.to(device), Y.to(device)\r\n",
        "    output = model(X)\r\n",
        "    test_loss += criterion(output, Y).item()\r\n",
        "    pred = output.data.max(1,keepdim=True)[1]\r\n",
        "    correct += pred.eq(Y.data.view_as(pred)).cpu().sum()\r\n",
        "    test_loss /= len(test_loader.dataset)\r\n",
        "    Accuracy = 100. * correct / len(test_loader.dataset)\r\n",
        "    acc_list.append(Accuracy.item())#Accuracy 수집\r\n",
        "    print(f'===========================\\nTest set: Average loss: {test_loss:.4f}, Accuracy: {correct}/{len(test_loader.dataset)} '\r\n",
        "          f'({Accuracy:.0f}%)')"
      ],
      "execution_count": null,
      "outputs": []
    },
    {
      "cell_type": "code",
      "metadata": {
        "id": "jMLD0NI2GHhm"
      },
      "source": [
        "import time\r\n",
        "\r\n",
        "if __name__ == '__main__':\r\n",
        "    since = time.time()\r\n",
        "    for epoch in range(1, 10):\r\n",
        "        epoch_start = time.time()\r\n",
        "        train(epoch)\r\n",
        "        m, s = divmod(time.time() - epoch_start, 60)\r\n",
        "        print(f'Training time: {m:.0f}m {s:.0f}s')\r\n",
        "        test()\r\n",
        "        m, s = divmod(time.time() - epoch_start, 60)\r\n",
        "        print(f'Testing time: {m:.0f}m {s:.0f}s')\r\n",
        "\r\n",
        "    m, s = divmod(time.time() - since, 60)\r\n",
        "    print(f'Total Time: {m:.0f}m {s:.0f}s\\nModel was trained on {device}!')"
      ],
      "execution_count": null,
      "outputs": []
    },
    {
      "cell_type": "markdown",
      "metadata": {
        "id": "Owcz0yEd9UHi"
      },
      "source": [
        "==============================학습된 parameter 분석==============================\r\n",
        "\r\n",
        "\r\n"
      ]
    },
    {
      "cell_type": "code",
      "metadata": {
        "colab": {
          "base_uri": "https://localhost:8080/"
        },
        "id": "udc8ZJjQ9Swj",
        "outputId": "b5cdc5d9-8f67-4c20-f4f3-e837f53b8c2f"
      },
      "source": [
        "# 모델의 state_dict 출력\r\n",
        "print(\"Model's state_dict:\")\r\n",
        "for param_tensor in model.state_dict():\r\n",
        "    print(param_tensor, \"\\t\", model.state_dict()[param_tensor].size())\r\n",
        "\r\n",
        "print()\r\n",
        "\r\n",
        "# 옵티마이저의 state_dict 출력\r\n",
        "print(\"Optimizer's state_dict:\")\r\n",
        "for var_name in optimizer.state_dict():\r\n",
        "    print(var_name, \"\\t\", optimizer.state_dict()[var_name])"
      ],
      "execution_count": null,
      "outputs": [
        {
          "output_type": "stream",
          "text": [
            "Model's state_dict:\n",
            "conv1.weight \t torch.Size([10, 1, 5, 5])\n",
            "conv1.bias \t torch.Size([10])\n",
            "conv2.weight \t torch.Size([20, 10, 5, 5])\n",
            "conv2.bias \t torch.Size([20])\n",
            "fc.weight \t torch.Size([10, 320])\n",
            "fc.bias \t torch.Size([10])\n",
            "\n",
            "Optimizer's state_dict:\n",
            "state \t {0: {'momentum_buffer': tensor([[[[ 1.6644e-04, -1.2489e-03, -2.5720e-03, -3.8727e-03, -3.2855e-03],\n",
            "          [-1.1334e-03, -2.9955e-03, -5.6065e-03, -5.2716e-03, -4.4391e-03],\n",
            "          [-3.0075e-03, -6.4633e-03, -7.7417e-03, -7.5855e-03, -8.1067e-03],\n",
            "          [-2.9677e-03, -5.0089e-03, -6.9988e-03, -5.5311e-03, -7.1121e-03],\n",
            "          [-1.8606e-03, -5.1289e-03, -6.9612e-03, -4.1751e-03, -5.5894e-03]]],\n",
            "\n",
            "\n",
            "        [[[-2.6867e-04, -5.3973e-03, -9.6400e-03, -1.1925e-02, -9.1738e-03],\n",
            "          [-2.4222e-03, -1.0534e-02, -1.3135e-02, -1.2220e-02, -7.2111e-03],\n",
            "          [-9.2218e-03, -1.4217e-02, -1.5059e-02, -1.1888e-02, -6.5618e-03],\n",
            "          [-1.3067e-02, -1.6454e-02, -1.4895e-02, -1.1641e-02, -1.1474e-02],\n",
            "          [-1.7456e-02, -1.8732e-02, -1.7075e-02, -1.4158e-02, -1.4242e-02]]],\n",
            "\n",
            "\n",
            "        [[[ 2.3125e-05, -1.1735e-05, -3.8512e-05, -3.9131e-06, -2.1999e-06],\n",
            "          [ 4.5019e-05,  6.8765e-05,  8.9197e-06, -5.5026e-06, -7.5848e-07],\n",
            "          [ 2.2965e-05,  6.5449e-05,  3.0319e-05, -2.1170e-07, -7.0893e-12],\n",
            "          [ 7.4420e-05,  9.7600e-05,  2.6771e-05,  1.1818e-06,  2.3555e-07],\n",
            "          [ 1.3181e-04,  7.2057e-05, -5.6726e-06, -3.2992e-07, -2.4678e-06]]],\n",
            "\n",
            "\n",
            "        [[[-6.5905e-03, -3.7195e-03, -5.2962e-03, -9.5900e-03, -7.0251e-03],\n",
            "          [-7.2468e-03, -5.7656e-03, -8.2770e-03, -1.2885e-02, -8.6199e-03],\n",
            "          [-1.2394e-02, -9.0352e-03, -1.2728e-02, -1.4954e-02, -8.3186e-03],\n",
            "          [-1.1805e-02, -1.1122e-02, -1.0777e-02, -1.0418e-02, -4.5207e-03],\n",
            "          [-1.5032e-02, -8.5830e-03, -5.6816e-03, -5.5548e-03,  1.7035e-04]]],\n",
            "\n",
            "\n",
            "        [[[ 6.2919e-04, -1.8011e-03, -5.4129e-03, -9.4569e-03, -1.0994e-02],\n",
            "          [ 4.4927e-04, -7.3874e-04, -6.4934e-03, -1.0537e-02, -9.5898e-03],\n",
            "          [-3.5706e-06, -2.2368e-03, -7.3642e-03, -1.0669e-02, -9.1617e-03],\n",
            "          [-2.9187e-03, -8.7199e-03, -1.0861e-02, -1.4860e-02, -1.2953e-02],\n",
            "          [-7.0666e-03, -9.3933e-03, -1.4960e-02, -1.5733e-02, -1.4783e-02]]],\n",
            "\n",
            "\n",
            "        [[[-5.5902e-03,  2.3668e-03,  1.3770e-04,  1.6441e-03,  9.1898e-03],\n",
            "          [ 6.1531e-03,  1.6686e-02,  7.3034e-03,  6.1844e-03,  1.1134e-02],\n",
            "          [ 1.2376e-02,  1.7215e-02,  1.0478e-02,  9.3623e-03,  6.7448e-03],\n",
            "          [ 1.9097e-02,  2.5858e-02,  2.0358e-02,  1.5277e-02,  5.9717e-03],\n",
            "          [ 1.6829e-02,  2.1938e-02,  1.8614e-02,  1.5912e-02,  1.0542e-02]]],\n",
            "\n",
            "\n",
            "        [[[ 1.2225e-02,  4.3204e-03, -4.2909e-03, -7.4808e-03, -1.9110e-02],\n",
            "          [ 8.8864e-03,  5.3845e-03, -4.5550e-03, -9.0160e-03, -2.0003e-02],\n",
            "          [-4.8264e-03, -9.2019e-03, -1.7454e-02, -2.0907e-02, -2.8425e-02],\n",
            "          [-1.7106e-02, -1.7272e-02, -2.3216e-02, -2.8041e-02, -2.4295e-02],\n",
            "          [-2.2610e-02, -2.0335e-02, -2.9474e-02, -3.3771e-02, -2.1775e-02]]],\n",
            "\n",
            "\n",
            "        [[[ 1.8693e-02,  1.6982e-02,  1.6037e-02,  1.4685e-02,  7.4313e-03],\n",
            "          [ 1.7575e-02,  1.7076e-02,  1.5120e-02,  9.8975e-03,  2.0436e-03],\n",
            "          [ 1.8350e-02,  1.6977e-02,  1.2006e-02,  6.7552e-03,  1.5613e-03],\n",
            "          [ 2.1055e-02,  1.5798e-02,  8.1367e-03,  3.3815e-03, -1.3640e-03],\n",
            "          [ 1.8263e-02,  1.4516e-02,  5.7995e-03,  3.5351e-04, -6.1915e-03]]],\n",
            "\n",
            "\n",
            "        [[[-9.9906e-04, -3.4144e-03, -1.3124e-02, -1.0656e-02,  2.1611e-03],\n",
            "          [-3.2482e-03, -7.0748e-03, -1.1071e-02, -2.6493e-03,  9.8614e-03],\n",
            "          [-6.6860e-03, -1.9303e-03,  1.4290e-03,  3.7625e-03,  1.2724e-02],\n",
            "          [ 1.3531e-04,  1.0839e-02,  5.2907e-03,  6.8569e-03,  1.2186e-02],\n",
            "          [ 8.1440e-03,  1.0706e-02,  5.9163e-03,  9.5229e-03,  9.6087e-03]]],\n",
            "\n",
            "\n",
            "        [[[ 1.6454e-03,  1.5350e-03,  4.2392e-03,  3.8027e-03,  3.0366e-03],\n",
            "          [ 3.3309e-03,  7.8584e-03,  6.9404e-03,  6.5558e-03,  4.5975e-03],\n",
            "          [ 8.0868e-03,  1.0731e-02,  9.0998e-03,  7.8960e-03,  3.9292e-03],\n",
            "          [ 1.1741e-02,  1.2974e-02,  8.0680e-03,  5.1939e-03, -1.4047e-03],\n",
            "          [ 9.1427e-03,  7.8565e-03,  4.9367e-03,  9.5184e-04, -2.8847e-03]]]],\n",
            "       device='cuda:0')}, 1: {'momentum_buffer': tensor([-0.0021, -0.0012,  0.0001, -0.0097, -0.0058, -0.0111,  0.0369,  0.0082,\n",
            "         0.0031,  0.0178], device='cuda:0')}, 2: {'momentum_buffer': tensor([[[[ 5.8182e-04,  7.7952e-04,  1.5632e-03,  5.6072e-04, -8.4423e-05],\n",
            "          [-5.4335e-04, -1.2123e-03, -1.0671e-03, -3.5313e-04,  6.2800e-04],\n",
            "          [ 2.0394e-04, -2.8080e-04, -9.1640e-04, -1.3592e-03, -1.5486e-03],\n",
            "          [-4.6359e-06, -2.1416e-05,  1.2444e-03, -1.4236e-05,  4.6640e-04],\n",
            "          [-1.7700e-04,  8.1362e-04,  1.2375e-03,  1.8244e-03,  1.6249e-03]],\n",
            "\n",
            "         [[-5.1148e-03, -7.5597e-03, -3.8017e-03,  2.8309e-03,  1.8659e-03],\n",
            "          [ 1.8241e-03,  1.1613e-02,  1.6035e-02,  1.1835e-02,  3.0398e-03],\n",
            "          [ 9.6889e-03,  1.9125e-02,  2.1363e-02,  1.1741e-02,  6.2563e-03],\n",
            "          [ 1.0150e-02,  1.4363e-02,  1.2750e-02,  9.0439e-03,  4.6071e-03],\n",
            "          [ 9.0544e-03,  9.0785e-03,  7.4450e-03,  1.0586e-03, -4.7426e-03]],\n",
            "\n",
            "         [[-9.7500e-08, -3.2983e-06,  4.5382e-08, -9.3637e-06, -1.0634e-05],\n",
            "          [-1.8670e-05, -1.9300e-05, -1.1437e-07, -1.0321e-05, -6.3840e-05],\n",
            "          [-1.0313e-05,  4.9254e-08, -2.3929e-05, -7.1001e-07,  5.8553e-06],\n",
            "          [-2.4337e-07,  2.8173e-06, -5.0933e-06,  2.7967e-06, -6.2201e-06],\n",
            "          [-2.0487e-06,  1.2166e-07,  7.0466e-07, -8.9614e-07, -1.3634e-06]],\n",
            "\n",
            "         ...,\n",
            "\n",
            "         [[-3.6958e-03, -5.3429e-03, -1.4616e-03,  3.6301e-03,  6.3827e-03],\n",
            "          [ 2.8841e-03,  4.4712e-03,  8.6369e-04,  2.6369e-03,  5.1878e-03],\n",
            "          [ 4.8763e-03,  5.4243e-03,  7.1429e-03,  1.1642e-02,  1.0398e-02],\n",
            "          [ 2.9965e-03,  5.1779e-03,  1.3819e-02,  1.8105e-02,  1.4397e-02],\n",
            "          [ 4.9760e-03,  6.8904e-03,  8.7680e-03,  7.6691e-03,  8.9300e-03]],\n",
            "\n",
            "         [[-1.0214e-02, -1.1187e-02,  1.5902e-03,  2.7319e-02,  3.5004e-02],\n",
            "          [-3.8783e-03,  9.6524e-03,  3.1513e-02,  3.1956e-02,  3.2672e-02],\n",
            "          [ 9.0198e-03,  3.4253e-02,  4.5537e-02,  4.4715e-02,  2.9201e-02],\n",
            "          [ 2.1358e-02,  4.4076e-02,  5.6701e-02,  5.2891e-02,  3.6311e-02],\n",
            "          [ 2.5643e-02,  4.1367e-02,  4.8780e-02,  3.7722e-02,  7.1176e-03]],\n",
            "\n",
            "         [[-3.8635e-03,  2.8370e-03,  6.2522e-03,  1.0424e-02,  1.1228e-02],\n",
            "          [-1.2332e-03, -2.7941e-03,  7.9754e-04,  5.2617e-03,  7.2397e-03],\n",
            "          [ 4.3324e-03,  7.4441e-03,  1.1991e-02,  1.1890e-02,  7.1504e-03],\n",
            "          [ 5.0108e-03,  1.1860e-02,  1.6539e-02,  1.6299e-02,  8.4629e-03],\n",
            "          [ 7.0618e-03,  1.0369e-02,  1.7125e-02,  1.4460e-02,  1.0474e-02]]],\n",
            "\n",
            "\n",
            "        [[[-5.1866e-04,  2.7432e-04,  1.0327e-03,  6.9075e-04,  6.4634e-04],\n",
            "          [ 1.5627e-04,  8.5624e-04,  7.3424e-04,  5.9134e-04,  4.3937e-04],\n",
            "          [ 1.1308e-03,  1.5818e-03,  8.3075e-04,  8.7847e-04,  2.3829e-04],\n",
            "          [ 1.1994e-03,  7.3685e-04,  1.3122e-03,  1.9874e-03,  5.3402e-04],\n",
            "          [ 1.5416e-03,  7.8337e-04, -6.5379e-05,  8.1393e-05, -3.3505e-04]],\n",
            "\n",
            "         [[ 1.2548e-02,  1.2644e-02,  4.0065e-03,  2.3627e-03,  2.4936e-03],\n",
            "          [ 1.0928e-02,  6.4864e-03,  6.7960e-05,  2.9398e-03,  2.7050e-04],\n",
            "          [ 1.4937e-03,  2.2651e-03,  2.7388e-03,  8.0403e-03, -9.4383e-04],\n",
            "          [ 4.7354e-03,  7.3528e-03,  7.1474e-03,  4.6680e-03, -5.9851e-03],\n",
            "          [ 9.5568e-03,  1.0775e-02,  5.6465e-03,  1.3882e-03, -2.9582e-03]],\n",
            "\n",
            "         [[ 2.0213e-06, -3.8439e-06,  1.4777e-05,  3.9533e-06, -6.7367e-05],\n",
            "          [-3.7025e-07,  1.5695e-05,  1.0920e-05,  1.2930e-05, -7.9330e-06],\n",
            "          [ 3.6335e-06,  7.3293e-06, -1.5455e-06,  6.5559e-06, -7.4412e-06],\n",
            "          [-3.0513e-06,  5.3753e-06, -1.8118e-06,  7.0425e-08, -1.1416e-05],\n",
            "          [-4.7331e-07, -2.4888e-06, -7.6163e-06, -1.0694e-05, -1.1049e-05]],\n",
            "\n",
            "         ...,\n",
            "\n",
            "         [[ 9.0158e-03,  9.7507e-03,  1.3495e-02,  1.1983e-02,  9.0812e-03],\n",
            "          [ 8.0738e-03,  1.0598e-02,  1.2936e-02,  9.1183e-03,  4.3491e-03],\n",
            "          [ 1.0129e-02,  8.7198e-03,  1.3449e-02,  5.8776e-03,  7.4368e-04],\n",
            "          [ 1.1047e-02,  9.1624e-03,  8.0803e-03,  2.5860e-03,  1.8018e-03],\n",
            "          [ 7.4541e-03,  1.0888e-02,  9.8523e-03,  3.0086e-03,  5.2531e-03]],\n",
            "\n",
            "         [[ 4.5428e-02,  5.2678e-02,  4.7371e-02,  2.9001e-02,  2.5069e-02],\n",
            "          [ 4.2516e-02,  4.3139e-02,  2.6369e-02,  1.5959e-02,  2.2427e-02],\n",
            "          [ 2.8181e-02,  2.7758e-02,  2.0099e-02,  2.2345e-02,  1.1849e-02],\n",
            "          [ 2.6477e-02,  2.8511e-02,  2.1177e-02,  1.3503e-02, -4.6549e-03],\n",
            "          [ 2.6983e-02,  3.1252e-02,  1.8606e-02,  5.2310e-03, -1.5984e-02]],\n",
            "\n",
            "         [[ 1.0012e-02,  1.4000e-02,  1.3229e-02,  1.4591e-02,  9.7785e-03],\n",
            "          [ 1.2412e-02,  1.3903e-02,  1.1166e-02,  8.8593e-03,  6.0146e-03],\n",
            "          [ 1.0608e-02,  1.0613e-02,  6.5536e-03,  5.8733e-03,  1.5087e-03],\n",
            "          [ 9.0657e-03,  7.7145e-03,  6.7898e-03,  7.6391e-03,  6.1606e-04],\n",
            "          [ 9.9751e-03,  9.3120e-03,  6.3694e-03,  2.5284e-03, -2.0233e-03]]],\n",
            "\n",
            "\n",
            "        [[[ 2.2210e-04,  2.0140e-05,  7.3337e-05,  2.4462e-04,  2.9999e-04],\n",
            "          [ 8.4347e-04,  9.1598e-04,  1.2816e-03,  1.2009e-03,  5.3243e-04],\n",
            "          [ 1.0450e-03,  1.5647e-03,  1.5477e-03,  8.1550e-04,  5.0525e-04],\n",
            "          [ 8.4463e-04,  7.9096e-04,  1.0321e-03,  1.0609e-03, -2.4084e-04],\n",
            "          [ 3.1571e-04,  7.1907e-04,  5.9280e-04, -7.1491e-05, -1.9666e-04]],\n",
            "\n",
            "         [[ 7.6643e-03,  8.7464e-03,  9.8142e-03,  1.0400e-02,  1.4986e-02],\n",
            "          [ 1.0122e-02,  1.1276e-02,  1.3269e-02,  1.6666e-02,  1.5016e-02],\n",
            "          [ 4.7307e-03,  6.0887e-03,  1.2181e-02,  9.7386e-03,  4.6880e-03],\n",
            "          [ 3.4621e-03,  4.5063e-03,  5.8441e-03, -1.0012e-03,  3.7482e-04],\n",
            "          [ 8.5713e-03,  7.4106e-03,  5.3786e-03,  3.5520e-03,  8.4068e-03]],\n",
            "\n",
            "         [[-2.9574e-07,  2.8368e-06,  3.3143e-06,  2.6874e-06,  6.3367e-06],\n",
            "          [ 1.2472e-06,  5.4807e-08, -6.8117e-07, -3.6225e-06,  8.0182e-05],\n",
            "          [ 1.4613e-06,  1.6776e-07,  4.9768e-07, -1.6597e-05,  3.2089e-06],\n",
            "          [-1.1952e-06,  7.2969e-06, -2.8713e-06, -1.1890e-05, -1.5430e-05],\n",
            "          [-1.8178e-06,  1.3556e-05, -4.7609e-06,  3.8413e-06, -8.9859e-06]],\n",
            "\n",
            "         ...,\n",
            "\n",
            "         [[ 6.9068e-03,  1.3952e-02,  1.6106e-02,  1.3331e-02,  9.7646e-03],\n",
            "          [ 6.4287e-03,  1.1173e-02,  1.5101e-02,  1.4563e-02,  9.2603e-03],\n",
            "          [ 4.5152e-03,  1.0024e-02,  1.1703e-02,  1.0624e-02,  5.0095e-03],\n",
            "          [ 6.8686e-03,  8.1564e-03,  5.9532e-03,  7.3482e-03,  7.2715e-03],\n",
            "          [ 6.3256e-03,  5.4033e-03,  6.4100e-03,  9.2205e-03,  5.0113e-03]],\n",
            "\n",
            "         [[ 3.4008e-02,  4.0782e-02,  3.8170e-02,  2.0172e-02,  1.4116e-02],\n",
            "          [ 3.5328e-02,  4.5004e-02,  3.6638e-02,  3.5344e-02,  2.7622e-02],\n",
            "          [ 2.8021e-02,  2.8558e-02,  3.7374e-02,  3.5275e-02,  2.9242e-02],\n",
            "          [ 1.4432e-02,  2.6772e-02,  2.6265e-02,  2.6316e-02,  9.8210e-03],\n",
            "          [ 2.4349e-02,  2.0872e-02,  2.5184e-02,  1.5198e-02,  1.2471e-02]],\n",
            "\n",
            "         [[ 1.1878e-02,  1.3608e-02,  9.5791e-03,  6.3364e-03,  2.1864e-03],\n",
            "          [ 7.2411e-03,  1.2273e-02,  1.4606e-02,  1.0128e-02,  8.5792e-03],\n",
            "          [ 1.0044e-02,  1.2987e-02,  1.4626e-02,  1.2349e-02,  7.6173e-03],\n",
            "          [ 7.9840e-03,  9.0593e-03,  9.7603e-03,  9.6374e-03,  9.5626e-03],\n",
            "          [ 4.2033e-03,  7.3173e-03,  8.0356e-03,  4.4690e-03,  3.4993e-03]]],\n",
            "\n",
            "\n",
            "        ...,\n",
            "\n",
            "\n",
            "        [[[-4.5311e-04, -9.4139e-04, -1.0379e-03, -7.0473e-04, -2.0334e-04],\n",
            "          [-9.5480e-04, -4.9680e-04, -1.3474e-03, -1.5373e-03, -9.4112e-04],\n",
            "          [-1.8674e-05, -5.4866e-04, -1.2415e-03, -2.0238e-03, -1.6066e-03],\n",
            "          [-1.2856e-03, -1.2928e-03, -9.2836e-05, -6.1872e-04, -1.0023e-03],\n",
            "          [-7.4275e-04, -6.8219e-05,  3.7305e-04, -4.9511e-05, -8.2969e-04]],\n",
            "\n",
            "         [[-1.5115e-02, -1.1035e-02, -1.1893e-02, -1.3150e-02, -7.4364e-03],\n",
            "          [-8.3841e-03, -4.1767e-03, -3.5896e-03, -4.2706e-03, -4.6949e-03],\n",
            "          [-1.1770e-02, -2.7412e-03,  3.5866e-03,  7.1598e-04, -2.7429e-03],\n",
            "          [-4.9391e-03,  3.0444e-03,  1.1408e-03, -2.5561e-04, -7.3313e-04],\n",
            "          [-1.9543e-03, -8.0609e-04, -8.3571e-04, -3.8729e-03, -9.2912e-03]],\n",
            "\n",
            "         [[ 5.2377e-06, -4.0086e-05,  1.6116e-05,  1.9816e-05, -7.8365e-07],\n",
            "          [ 1.1594e-06, -7.1556e-06, -1.3140e-05, -1.5413e-07,  6.3307e-06],\n",
            "          [-2.0935e-06, -9.7628e-05,  8.9384e-08, -5.8132e-07, -1.5325e-05],\n",
            "          [-1.0393e-05,  6.8505e-06,  2.4251e-06, -9.3900e-07, -1.9450e-05],\n",
            "          [-7.5043e-06, -1.2874e-05, -2.6442e-06, -4.3547e-06, -9.5452e-06]],\n",
            "\n",
            "         ...,\n",
            "\n",
            "         [[-1.8264e-02, -1.9023e-02, -1.8100e-02, -1.6657e-02, -1.5273e-02],\n",
            "          [-2.1478e-02, -1.7751e-02, -1.0237e-02, -1.1426e-02, -1.4914e-02],\n",
            "          [-2.3123e-02, -1.6041e-02, -5.3197e-03, -4.9517e-03, -9.9111e-03],\n",
            "          [-1.7943e-02, -1.4737e-02, -6.1761e-03,  1.5715e-03, -4.4108e-03],\n",
            "          [-1.6645e-02, -1.1489e-02, -3.3949e-03,  4.2433e-04, -4.9222e-03]],\n",
            "\n",
            "         [[-6.8678e-02, -5.1436e-02, -4.1441e-02, -3.7949e-02, -2.3750e-02],\n",
            "          [-6.1382e-02, -4.2003e-02, -2.9181e-02, -2.5518e-02, -2.0506e-02],\n",
            "          [-6.4663e-02, -3.3346e-02, -2.0177e-03, -5.5037e-03, -1.9423e-02],\n",
            "          [-5.1013e-02, -7.6204e-03,  1.1203e-02,  3.4003e-03, -5.0387e-03],\n",
            "          [-2.4443e-02,  5.5789e-05,  8.9753e-03,  3.6380e-03, -1.0890e-02]],\n",
            "\n",
            "         [[-2.0604e-02, -1.9258e-02, -1.7223e-02, -1.4000e-02, -1.0119e-02],\n",
            "          [-2.1286e-02, -1.4829e-02, -1.1815e-02, -1.1286e-02, -8.7556e-03],\n",
            "          [-1.9327e-02, -1.1014e-02, -6.8956e-03, -6.1833e-03, -8.2966e-03],\n",
            "          [-1.8950e-02, -1.1444e-02,  3.0004e-03,  9.9374e-04, -5.3180e-03],\n",
            "          [-1.2857e-02, -3.0610e-03,  2.8239e-03,  1.7868e-03, -1.8718e-03]]],\n",
            "\n",
            "\n",
            "        [[[-2.7108e-05,  7.8117e-05,  9.3539e-04,  8.9021e-04,  8.0311e-04],\n",
            "          [ 1.8317e-04,  1.5380e-04,  6.7239e-04,  6.9999e-04,  4.6269e-04],\n",
            "          [ 5.7729e-04,  6.8329e-04,  5.9538e-04,  8.9693e-04,  7.0689e-04],\n",
            "          [ 5.2858e-04,  6.8710e-04,  3.8891e-04, -7.2746e-05,  3.1573e-04],\n",
            "          [ 8.4827e-04,  3.2082e-04, -9.5351e-04, -1.1081e-03, -1.8467e-03]],\n",
            "\n",
            "         [[ 2.2301e-03,  1.5048e-03,  4.0286e-03,  6.3657e-05, -8.2859e-04],\n",
            "          [ 4.5455e-03,  4.1263e-03,  1.4945e-03, -1.6869e-04,  5.2025e-03],\n",
            "          [ 6.0445e-03,  3.4263e-03,  3.5609e-03,  3.2986e-03,  9.7177e-03],\n",
            "          [-1.3668e-05, -1.4908e-03, -3.9549e-04,  2.4393e-03,  6.1417e-03],\n",
            "          [-1.1536e-03,  2.6051e-03,  3.3670e-03,  7.0600e-03,  1.1415e-02]],\n",
            "\n",
            "         [[ 1.5248e-05,  2.0527e-05,  7.3252e-06,  2.7218e-06, -3.5531e-06],\n",
            "          [ 2.0660e-06,  9.1525e-06, -1.2723e-06,  9.4676e-06,  2.5170e-06],\n",
            "          [ 1.0679e-06, -1.4042e-07,  1.6835e-05,  1.5724e-06, -1.3870e-05],\n",
            "          [-2.0339e-06,  2.9809e-06,  2.0668e-09, -4.9243e-06, -7.7104e-06],\n",
            "          [-1.2608e-06, -4.7757e-06, -6.4745e-06,  7.6251e-07,  1.9504e-06]],\n",
            "\n",
            "         ...,\n",
            "\n",
            "         [[ 7.5109e-03,  5.2065e-03, -3.7697e-04,  1.2075e-03,  4.7575e-03],\n",
            "          [ 1.0430e-02,  7.9323e-03,  1.7019e-03,  5.2655e-03,  6.4857e-03],\n",
            "          [ 9.9281e-03,  6.6696e-03,  4.4154e-03,  3.8676e-03,  1.9677e-03],\n",
            "          [ 8.3335e-03,  5.3819e-03,  1.9644e-03,  4.7329e-04,  2.0507e-03],\n",
            "          [ 1.0096e-02,  6.0711e-03,  3.3756e-03,  6.3886e-03,  6.5208e-03]],\n",
            "\n",
            "         [[ 1.6420e-02,  4.3367e-03,  8.0777e-03,  1.0958e-02,  6.8005e-03],\n",
            "          [ 2.1263e-02,  1.0758e-02,  6.7568e-03,  6.3842e-03,  1.7603e-02],\n",
            "          [ 2.4533e-02,  8.6311e-03,  3.4530e-03,  6.8369e-03,  1.5017e-02],\n",
            "          [ 1.7139e-02,  7.3214e-04,  2.1573e-03,  4.2622e-04,  1.7452e-02],\n",
            "          [ 1.2541e-02,  6.5579e-03,  5.6961e-03,  1.1593e-02,  3.0756e-02]],\n",
            "\n",
            "         [[ 3.6151e-03,  1.5117e-03,  2.0875e-03,  6.8089e-03,  7.7331e-03],\n",
            "          [ 6.3293e-03,  2.5192e-03,  2.2417e-03,  2.6719e-03,  5.1678e-03],\n",
            "          [ 6.1446e-03,  5.7581e-03,  2.6354e-03,  2.4487e-03,  7.2842e-03],\n",
            "          [ 6.8116e-03,  3.7611e-03,  1.2735e-03,  2.0062e-03,  4.0590e-03],\n",
            "          [ 6.6847e-03,  2.1106e-03,  2.6639e-03,  3.5575e-03,  5.9699e-03]]],\n",
            "\n",
            "\n",
            "        [[[-4.3280e-04,  1.4416e-04,  8.0399e-04,  6.4704e-04,  5.2530e-04],\n",
            "          [-2.0340e-04, -7.1749e-05,  1.1805e-03,  6.1380e-04,  1.0678e-04],\n",
            "          [ 9.2009e-04,  7.4360e-04,  1.5909e-03,  9.2671e-04,  1.2399e-04],\n",
            "          [ 2.9469e-05, -3.7744e-04, -8.4465e-04,  2.1950e-05, -3.3636e-04],\n",
            "          [ 5.9088e-04,  1.9780e-04, -3.0373e-06, -3.4608e-04, -5.0392e-05]],\n",
            "\n",
            "         [[ 9.3883e-03,  9.3585e-03,  3.8620e-03,  2.6816e-03,  3.8833e-04],\n",
            "          [ 7.8245e-03,  5.6755e-03,  1.4190e-03,  2.1087e-03, -1.8389e-03],\n",
            "          [-2.0457e-03, -5.6494e-03, -3.2521e-03, -1.7865e-03, -2.0680e-03],\n",
            "          [-4.4291e-03, -2.7977e-03,  1.2036e-03,  1.9287e-03,  1.4136e-03],\n",
            "          [-1.3209e-03,  2.1974e-03,  4.0172e-03,  4.5909e-03,  4.8413e-03]],\n",
            "\n",
            "         [[-2.0103e-06,  4.2780e-06, -6.7209e-05, -4.3255e-06, -3.1904e-05],\n",
            "          [-1.2764e-05, -4.2640e-06, -3.4905e-06, -1.1406e-05, -8.6294e-06],\n",
            "          [ 4.7117e-09, -4.4747e-07, -1.0235e-04,  6.1997e-06,  6.7240e-07],\n",
            "          [ 1.3181e-07, -1.8169e-06,  2.4511e-06, -1.6064e-05,  1.9695e-06],\n",
            "          [ 2.6186e-08, -8.0553e-06, -3.3654e-06, -3.0681e-05,  1.3026e-05]],\n",
            "\n",
            "         ...,\n",
            "\n",
            "         [[ 3.5360e-03,  1.1748e-03,  5.1828e-03,  8.5996e-03,  5.5334e-03],\n",
            "          [ 5.6393e-03,  2.5848e-03,  6.5479e-03,  6.5889e-03,  2.5726e-03],\n",
            "          [ 2.9400e-03,  3.2255e-03,  3.9318e-03,  3.5295e-03,  2.9244e-03],\n",
            "          [ 5.8617e-03,  1.6923e-03,  1.0665e-04,  3.6747e-03,  4.0654e-03],\n",
            "          [ 4.7359e-03, -5.6882e-04, -1.5986e-03,  6.7029e-03,  7.6270e-03]],\n",
            "\n",
            "         [[ 1.3196e-02,  2.6664e-02,  1.9838e-02,  1.4521e-02, -3.8891e-03],\n",
            "          [ 2.7169e-02,  1.7475e-02,  1.3736e-02,  7.8315e-03, -5.2491e-03],\n",
            "          [ 1.2224e-02,  1.6211e-03, -8.2516e-04,  2.8588e-03, -1.5893e-03],\n",
            "          [ 2.8481e-03, -7.0543e-03, -2.9015e-04,  5.8298e-04,  6.2780e-04],\n",
            "          [ 4.5374e-03, -9.2778e-04,  6.5217e-03,  1.5892e-02,  1.9121e-02]],\n",
            "\n",
            "         [[ 1.1586e-03,  4.2325e-03,  5.6269e-03,  5.4896e-03,  1.9747e-03],\n",
            "          [ 4.9823e-03,  6.2661e-03,  6.3130e-03,  6.1749e-03, -9.7734e-04],\n",
            "          [ 5.5082e-03,  2.3020e-03,  4.7849e-03,  3.4193e-03, -8.9314e-04],\n",
            "          [ 2.4058e-03,  1.5528e-03, -7.1500e-04,  7.3399e-04,  1.2003e-04],\n",
            "          [ 1.7764e-03, -5.3819e-05,  2.5443e-03,  3.2042e-03,  1.3248e-03]]]],\n",
            "       device='cuda:0')}, 3: {'momentum_buffer': tensor([ 0.0041,  0.0084,  0.0094, -0.0013,  0.0053,  0.0124,  0.0014,  0.0038,\n",
            "        -0.0037,  0.0007,  0.0027,  0.0072,  0.0020,  0.0016, -0.0004,  0.0086,\n",
            "        -0.0053, -0.0192,  0.0089,  0.0039], device='cuda:0')}, 4: {'momentum_buffer': tensor([[-9.8913e-03, -1.1571e-02, -4.9105e-03,  ..., -2.4312e-02,\n",
            "         -4.3318e-02, -2.2780e-02],\n",
            "        [-6.6945e-05,  7.7889e-02,  5.6962e-02,  ...,  3.1979e-02,\n",
            "          4.8197e-02,  4.0441e-02],\n",
            "        [ 1.1625e-02,  1.6287e-02,  5.5036e-03,  ...,  2.8766e-02,\n",
            "          3.1830e-02,  1.6568e-02],\n",
            "        ...,\n",
            "        [ 3.0818e-03,  3.2824e-04,  4.9488e-03,  ..., -4.1621e-03,\n",
            "         -5.4996e-03,  2.6774e-03],\n",
            "        [ 5.8630e-02,  2.8238e-02,  8.5143e-03,  ...,  7.9722e-02,\n",
            "          5.4406e-02,  6.9000e-03],\n",
            "        [-5.7930e-02, -2.8672e-02, -1.4097e-02,  ..., -8.9211e-02,\n",
            "         -3.9100e-02,  8.3888e-03]], device='cuda:0')}, 5: {'momentum_buffer': tensor([-0.0055,  0.0139,  0.0061,  0.0017, -0.0161, -0.0004,  0.0006,  0.0010,\n",
            "         0.0130, -0.0143], device='cuda:0')}}\n",
            "param_groups \t [{'lr': 0.01, 'momentum': 0.5, 'dampening': 0, 'weight_decay': 0, 'nesterov': False, 'params': [0, 1, 2, 3, 4, 5]}]\n"
          ],
          "name": "stdout"
        }
      ]
    },
    {
      "cell_type": "code",
      "metadata": {
        "colab": {
          "base_uri": "https://localhost:8080/",
          "height": 282
        },
        "id": "3PqXiKwn9Sup",
        "outputId": "1b903f3c-4b39-4bfb-ad0f-38fa4fbec2de"
      },
      "source": [
        "plt.plot(loss_list)"
      ],
      "execution_count": null,
      "outputs": [
        {
          "output_type": "execute_result",
          "data": {
            "text/plain": [
              "[<matplotlib.lines.Line2D at 0x7f7426985358>]"
            ]
          },
          "metadata": {
            "tags": []
          },
          "execution_count": 11
        },
        {
          "output_type": "display_data",
          "data": {
            "image/png": "[encoded data removed]",
            "text/plain": [
              "<Figure size 432x288 with 1 Axes>"
            ]
          },
          "metadata": {
            "tags": [],
            "needs_background": "light"
          }
        }
      ]
    },
    {
      "cell_type": "code",
      "metadata": {
        "colab": {
          "base_uri": "https://localhost:8080/",
          "height": 282
        },
        "id": "ccEc393p9Spm",
        "outputId": "65a0f932-d40a-4f0a-b3b2-46218293975b"
      },
      "source": [
        "plt.plot(acc_list)"
      ],
      "execution_count": null,
      "outputs": [
        {
          "output_type": "execute_result",
          "data": {
            "text/plain": [
              "[<matplotlib.lines.Line2D at 0x7f74272a8e48>]"
            ]
          },
          "metadata": {
            "tags": []
          },
          "execution_count": 12
        },
        {
          "output_type": "display_data",
          "data": {
            "image/png": "[encoded data removed]",
            "text/plain": [
              "<Figure size 432x288 with 1 Axes>"
            ]
          },
          "metadata": {
            "tags": [],
            "needs_background": "light"
          }
        }
      ]
    },
    {
      "cell_type": "markdown",
      "metadata": {
        "id": "Vl3ZbCyO97j-"
      },
      "source": [
        "==============================모델 테스트==============================\r\n",
        "\r\n",
        "\r\n",
        "모델 테스트 1) 최종 accuracy 구하기 (CNN.ver)\r\n",
        "\r\n",
        "https://truman.tistory.com/216"
      ]
    },
    {
      "cell_type": "code",
      "metadata": {
        "colab": {
          "base_uri": "https://localhost:8080/"
        },
        "id": "RCFevBhl9Sk7",
        "outputId": "4a55f107-d2f0-425a-80ed-be06ce5d9854"
      },
      "source": [
        "correct = 0\r\n",
        "\r\n",
        "total = 0\r\n",
        "\r\n",
        "with torch.no_grad():\r\n",
        "  for data in test_loader:\r\n",
        "    images, labels = data\r\n",
        "    images, labels = images.to(device),labels.to(device)\r\n",
        "    outputs = model(images)\r\n",
        "    _,prediction = torch.max(outputs.data,1)\r\n",
        "    total+=labels.size(0)\r\n",
        "    correct += (prediction==labels).sum().item()\r\n",
        "\r\n",
        "print(\"Acc:\", 100*correct/total)"
      ],
      "execution_count": 113,
      "outputs": [
        {
          "output_type": "stream",
          "text": [
            "/usr/local/lib/python3.6/dist-packages/ipykernel_launcher.py:19: UserWarning: Implicit dimension choice for log_softmax has been deprecated. Change the call to include dim=X as an argument.\n"
          ],
          "name": "stderr"
        },
        {
          "output_type": "stream",
          "text": [
            "Acc: 98.34735576923077\n"
          ],
          "name": "stdout"
        }
      ]
    },
    {
      "cell_type": "markdown",
      "metadata": {
        "id": "TFpbk4ze98-G"
      },
      "source": [
        "모델 테스트 2) 분류모델을 활용해 임의의 데이터 분류하기\r\n",
        "\r\n",
        "\r\n",
        "\r\n",
        "\r\n",
        "***중요!!!!\r\n",
        "\r\n",
        "http://taewan.kim/post/cnn/\r\n",
        "\r\n",
        "CNN은 4텐서를 input으로 받기 때문에 view(1,1,28,28)으로 변환해야 함 <==> LNN과 차이"
      ]
    },
    {
      "cell_type": "code",
      "metadata": {
        "colab": {
          "base_uri": "https://localhost:8080/",
          "height": 404
        },
        "id": "DtuAsiz399ft",
        "outputId": "88a70e0c-9041-4256-ba60-f6622fefc086"
      },
      "source": [
        "import random\r\n",
        "r = random.randint(0, len(test_dset)-1) #숫자 r은 test데이터셋의 크기만큼의 숫자중 하나\r\n",
        "X_val = test_dset.test_data[r:r+1].view(1,1,28,28).float().to(device) #***중요 CNN은 4텐서이기 때문에 4텐서로 변환\r\n",
        "Y_val = test_dset.test_labels[r:r+1].to(device)\r\n",
        "\r\n",
        "print('Label:', Y_val.item())\r\n",
        "single_prediction = model(X_val)\r\n",
        "print('Prediction:', torch.argmax(single_prediction,1).item())\r\n",
        "\r\n",
        "plt.imshow(test_dset.test_data[r:r+1].view(28,28), cmap='Greys')\r\n",
        "plt.show()"
      ],
      "execution_count": null,
      "outputs": [
        {
          "output_type": "stream",
          "text": [
            "Label: 8\n",
            "Prediction: 8\n"
          ],
          "name": "stdout"
        },
        {
          "output_type": "stream",
          "text": [
            "/usr/local/lib/python3.6/dist-packages/torchvision/datasets/mnist.py:63: UserWarning: test_data has been renamed data\n",
            "  warnings.warn(\"test_data has been renamed data\")\n",
            "/usr/local/lib/python3.6/dist-packages/torchvision/datasets/mnist.py:53: UserWarning: test_labels has been renamed targets\n",
            "  warnings.warn(\"test_labels has been renamed targets\")\n",
            "/usr/local/lib/python3.6/dist-packages/ipykernel_launcher.py:19: UserWarning: Implicit dimension choice for log_softmax has been deprecated. Change the call to include dim=X as an argument.\n"
          ],
          "name": "stderr"
        },
        {
          "output_type": "display_data",
          "data": {
            "image/png": "[encoded data removed]",
            "text/plain": [
              "<Figure size 432x288 with 1 Axes>"
            ]
          },
          "metadata": {
            "tags": [],
            "needs_background": "light"
          }
        }
      ]
    },
    {
      "cell_type": "markdown",
      "metadata": {
        "id": "7bvv7aboWe8w"
      },
      "source": [
        "==============================추론하기=============================="
      ]
    },
    {
      "cell_type": "code",
      "metadata": {
        "colab": {
          "base_uri": "https://localhost:8080/",
          "height": 248
        },
        "id": "GNYd_OZe-pKF",
        "outputId": "406050dd-3976-40de-ab8b-e5a28f42d57f"
      },
      "source": [
        "import cv2\r\n",
        " \r\n",
        "\r\n",
        "img = cv2.imread('/content/drive/MyDrive/opencvRo/number/0.png')\r\n",
        "\r\n",
        "plt.imshow(img)\r\n",
        "plt.axis('off')\r\n",
        "plt.show()"
      ],
      "execution_count": null,
      "outputs": [
        {
          "output_type": "display_data",
          "data": {
            "image/png": "[encoded data removed]",
            "text/plain": [
              "<Figure size 432x288 with 1 Axes>"
            ]
          },
          "metadata": {
            "tags": [],
            "needs_background": "light"
          }
        }
      ]
    },
    {
      "cell_type": "code",
      "metadata": {
        "colab": {
          "base_uri": "https://localhost:8080/",
          "height": 265
        },
        "id": "7nJSgRcvWnCS",
        "outputId": "8838adc4-44d4-4763-dc22-371af281e3c8"
      },
      "source": [
        "img_resize = cv2.resize(img, (28,28))\r\n",
        "\r\n",
        "plt.imshow(img_resize)\r\n",
        "plt.show()"
      ],
      "execution_count": null,
      "outputs": [
        {
          "output_type": "display_data",
          "data": {
            "image/png": "[encoded data removed]",
            "text/plain": [
              "<Figure size 432x288 with 1 Axes>"
            ]
          },
          "metadata": {
            "tags": [],
            "needs_background": "light"
          }
        }
      ]
    },
    {
      "cell_type": "code",
      "metadata": {
        "colab": {
          "base_uri": "https://localhost:8080/",
          "height": 1000
        },
        "id": "Fs_TDw7VWnAN",
        "outputId": "15116349-d688-4c23-922f-aa36de0269c0"
      },
      "source": [
        "import numpy as np\r\n",
        "\r\n",
        "#28*28로 리사이즈\r\n",
        "img1 = cv2.resize(img, (28,28))\r\n",
        "\r\n",
        "print(\"shape of img1:\", img1.shape)\r\n",
        "plt.imshow(img1)\r\n",
        "plt.show()\r\n",
        "\r\n",
        "#그레이스케일로 변환\r\n",
        "img2 = cv2.cvtColor(img1, cv2.COLOR_BGR2GRAY)\r\n",
        "\r\n",
        "print(\"shape of img2:\", img2.shape)\r\n",
        "\r\n",
        "plt.imshow(img2)\r\n",
        "plt.show()\r\n",
        "\r\n",
        "#출력된 색상이 학습된 이미지의 색상과 반전되어있으므로 반전 실행\r\n",
        "img3 = ~img2\r\n",
        "\r\n",
        "print(\"shape of img3:\", img3.shape)\r\n",
        "\r\n",
        "plt.imshow(img3)\r\n",
        "plt.show()\r\n",
        "\r\n",
        "#파이토치 명령어를 통해 이미지(openCV의 경우 numpy형)를 텐서형으로 변환 후 그레이스케일로 출력\r\n",
        "img_fin = torch.from_numpy(img3)\r\n",
        "\r\n",
        "print(\"shape of img4:\", img_fin.shape)\r\n",
        "\r\n",
        "plt.imshow(img_fin.view(28,28),cmap='Greys')\r\n",
        "plt.show()"
      ],
      "execution_count": null,
      "outputs": [
        {
          "output_type": "stream",
          "text": [
            "shape of img1: (28, 28, 3)\n"
          ],
          "name": "stdout"
        },
        {
          "output_type": "display_data",
          "data": {
            "image/png": "[encoded data removed]",
            "text/plain": [
              "<Figure size 432x288 with 1 Axes>"
            ]
          },
          "metadata": {
            "tags": [],
            "needs_background": "light"
          }
        },
        {
          "output_type": "stream",
          "text": [
            "shape of img2: (28, 28)\n"
          ],
          "name": "stdout"
        },
        {
          "output_type": "display_data",
          "data": {
            "image/png": "[encoded data removed]",
            "text/plain": [
              "<Figure size 432x288 with 1 Axes>"
            ]
          },
          "metadata": {
            "tags": [],
            "needs_background": "light"
          }
        },
        {
          "output_type": "stream",
          "text": [
            "shape of img3: (28, 28)\n"
          ],
          "name": "stdout"
        },
        {
          "output_type": "display_data",
          "data": {
            "image/png": "[encoded data removed]",
            "text/plain": [
              "<Figure size 432x288 with 1 Axes>"
            ]
          },
          "metadata": {
            "tags": [],
            "needs_background": "light"
          }
        },
        {
          "output_type": "stream",
          "text": [
            "shape of img4: torch.Size([28, 28])\n"
          ],
          "name": "stdout"
        },
        {
          "output_type": "display_data",
          "data": {
            "image/png": "[encoded data removed]",
            "text/plain": [
              "<Figure size 432x288 with 1 Axes>"
            ]
          },
          "metadata": {
            "tags": [],
            "needs_background": "light"
          }
        }
      ]
    },
    {
      "cell_type": "code",
      "metadata": {
        "colab": {
          "base_uri": "https://localhost:8080/",
          "height": 319
        },
        "id": "RFXssiOHWm9y",
        "outputId": "31eb790d-2d48-46b6-aa20-81950ab1bec6"
      },
      "source": [
        "result = img_fin.view(1,1,28,28).float().to(device)\r\n",
        "\r\n",
        "single_prediction = model(result)\r\n",
        "print('Prediction:', torch.argmax(single_prediction,1).item())\r\n",
        "\r\n",
        "plt.imshow(img_fin.view(28,28))\r\n",
        "plt.imshow(img_fin.view(28,28),cmap='Greys')\r\n",
        "plt.show()"
      ],
      "execution_count": null,
      "outputs": [
        {
          "output_type": "stream",
          "text": [
            "Prediction: 0\n"
          ],
          "name": "stdout"
        },
        {
          "output_type": "stream",
          "text": [
            "/usr/local/lib/python3.6/dist-packages/ipykernel_launcher.py:19: UserWarning: Implicit dimension choice for log_softmax has been deprecated. Change the call to include dim=X as an argument.\n"
          ],
          "name": "stderr"
        },
        {
          "output_type": "display_data",
          "data": {
            "image/png": "[encoded data removed]",
            "text/plain": [
              "<Figure size 432x288 with 1 Axes>"
            ]
          },
          "metadata": {
            "tags": [],
            "needs_background": "light"
          }
        }
      ]
    },
    {
      "cell_type": "markdown",
      "metadata": {
        "id": "lwxujPK_dvVk"
      },
      "source": [
        "모델 저장하기"
      ]
    },
    {
      "cell_type": "code",
      "metadata": {
        "id": "WOq1-2KGWm75"
      },
      "source": [
        "PATH = '/content/drive/MyDrive/opencvRo/'\r\n",
        "\r\n",
        "torch.save(model.state_dict(), PATH +'model_for_RO_CNN.pt')\r\n",
        "torch.save(optimizer.state_dict(),PATH +'optimizer_for_RO_CNN.pt')"
      ],
      "execution_count": null,
      "outputs": []
    },
    {
      "cell_type": "markdown",
      "metadata": {
        "id": "T5-z55W2mBKH"
      },
      "source": [
        "저장된 모델 또한 라즈베리파이에서 테스트 할 예정"
      ]
    },
    {
      "cell_type": "code",
      "metadata": {
        "id": "9cQNSn24Wm0z"
      },
      "source": [
        ""
      ],
      "execution_count": null,
      "outputs": []
    }
  ]
}